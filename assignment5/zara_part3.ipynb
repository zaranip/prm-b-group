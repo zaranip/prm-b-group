{
 "cells": [
  {
   "cell_type": "markdown",
   "id": "e81e9e5c",
   "metadata": {},
   "source": [
    "# Factor Model Testing (Part 3)\n",
    "\n",
    "This notebook evaluates several linear factor models using the 49 industry excess-return portfolios and the same factor data set as Part 2."
   ]
  },
  {
   "cell_type": "markdown",
   "id": "7a61813e",
   "metadata": {},
   "source": [
    "## Setup"
   ]
  },
  {
   "cell_type": "code",
   "execution_count": null,
   "id": "43c91d1b",
   "metadata": {},
   "outputs": [],
   "source": [
    "import pandas as pd\n",
    "import numpy as np"
   ]
  },
  {
   "cell_type": "code",
   "execution_count": null,
   "id": "76c5dbe0",
   "metadata": {},
   "outputs": [],
   "source": [
    "DATA_PATH = 'factor_pricing_data_monthly.xlsx'\n",
    "FACTORS_SHEET = 'factors (excess returns)'\n",
    "PORTFOLIOS_SHEET = 'portfolios (excess returns)'\n",
    "\n",
    "factors = pd.read_excel(DATA_PATH, sheet_name=FACTORS_SHEET, parse_dates=['Date']).set_index('Date').sort_index()\n",
    "portfolios = pd.read_excel(DATA_PATH, sheet_name=PORTFOLIOS_SHEET, parse_dates=['Date']).set_index('Date').sort_index()\n",
    "\n",
    "combined = factors.join(portfolios, how='inner')\n",
    "\n",
    "factors_aligned = combined[factors.columns]\n",
    "portfolios_aligned = combined[portfolios.columns]\n",
    "\n",
    "factors_aligned.head()"
   ]
  },
  {
   "cell_type": "markdown",
   "id": "2836ab05",
   "metadata": {},
   "source": [
    "## Model definitions"
   ]
  },
  {
   "cell_type": "code",
   "execution_count": null,
   "id": "4115cc9a",
   "metadata": {},
   "outputs": [],
   "source": [
    "MODELS = {\n",
    "    'CAPM': ['MKT'],\n",
    "    'Fama-French 3F': ['MKT', 'SMB', 'HML'],\n",
    "    'Fama-French 5F': ['MKT', 'SMB', 'HML', 'RMW', 'CMA'],\n",
    "    'AQR': ['MKT', 'HML', 'RMW', 'UMD'],\n",
    "}\n",
    "\n",
    "MODELS"
   ]
  },
  {
   "cell_type": "markdown",
   "id": "b94a5c57",
   "metadata": {},
   "source": [
    "## Helper functions"
   ]
  },
  {
   "cell_type": "code",
   "execution_count": null,
   "id": "830b2c53",
   "metadata": {},
   "outputs": [],
   "source": [
    "def run_time_series(y, X):\n",
    "    X_design = np.column_stack([np.ones(len(X)), X])\n",
    "    coef, *_ = np.linalg.lstsq(X_design, y, rcond=None)\n",
    "    fitted = X_design @ coef\n",
    "    resid = y - fitted\n",
    "    sse = np.sum(resid**2)\n",
    "    sst = np.sum((y - y.mean())**2)\n",
    "    r_squared = 1 - sse / sst\n",
    "    alpha = coef[0]\n",
    "    betas = coef[1:]\n",
    "    return alpha, betas, r_squared, resid"
   ]
  },
  {
   "cell_type": "code",
   "execution_count": null,
   "id": "082a6042",
   "metadata": {},
   "outputs": [],
   "source": [
    "time_series_results = {}\n",
    "for model, cols in MODELS.items():\n",
    "    factor_subset = factors_aligned[cols]\n",
    "    alphas = []\n",
    "    r_values = []\n",
    "    betas = []\n",
    "    residuals = []\n",
    "    for asset in portfolios_aligned.columns:\n",
    "        y = portfolios_aligned[asset].values\n",
    "        alpha, beta_vec, r2, resid = run_time_series(y, factor_subset.values)\n",
    "        alphas.append(alpha)\n",
    "        r_values.append(r2)\n",
    "        betas.append(beta_vec)\n",
    "        residuals.append(resid)\n",
    "    time_series_results[model] = {\n",
    "        'alphas': pd.Series(alphas, index=portfolios_aligned.columns),\n",
    "        'r_squared': pd.Series(r_values, index=portfolios_aligned.columns),\n",
    "        'betas': pd.DataFrame(betas, index=portfolios_aligned.columns, columns=cols),\n",
    "        'residuals': pd.DataFrame(residuals, index=portfolios_aligned.columns, columns=portfolios_aligned.index)\n",
    "    }"
   ]
  },
  {
   "cell_type": "markdown",
   "id": "3c5b9462",
   "metadata": {},
   "source": [
    "## AQR model: alphas and ^2$\n",
    "\n",
    "Time-series regressions of each industry portfolio on the AQR factors (MKT, HML, RMW, UMD)."
   ]
  },
  {
   "cell_type": "code",
   "execution_count": null,
   "id": "cd037210",
   "metadata": {},
   "outputs": [],
   "source": [
    "aqr_alphas = time_series_results['AQR']['alphas']\n",
    "aqr_r2 = time_series_results['AQR']['r_squared']\n",
    "\n",
    "aqr_output = pd.DataFrame({\n",
    "    'alpha': aqr_alphas,\n",
    "    'R_squared': aqr_r2\n",
    "})\n",
    "aqr_output.round(4)"
   ]
  },
  {
   "cell_type": "markdown",
   "id": "85ea0084",
   "metadata": {},
   "source": [
    "## Time-series MAE of alphas and average ^2$\n",
    "\n",
    "Lower mean absolute alpha indicates a better pricing fit. Higher ^2$ indicates better time-series explanatory power."
   ]
  },
  {
   "cell_type": "code",
   "execution_count": null,
   "id": "5a273ecd",
   "metadata": {},
   "outputs": [],
   "source": [
    "summary_rows = []\n",
    "for model, res in time_series_results.items():\n",
    "    mae_alpha = res['alphas'].abs().mean()\n",
    "    avg_r2 = res['r_squared'].mean()\n",
    "    summary_rows.append({\n",
    "        'model': model,\n",
    "        'MAE_alpha': mae_alpha,\n",
    "        'avg_R_squared': avg_r2\n",
    "    })\n",
    "summary_df = pd.DataFrame(summary_rows).set_index('model')\n",
    "summary_df.round(4)"
   ]
  },
  {
   "cell_type": "markdown",
   "id": "09c75e0e",
   "metadata": {},
   "source": [
    "## Average regression ^2$ by model\n",
    "\n",
    "These averages summarize fit across the 49 industry portfolios."
   ]
  },
  {
   "cell_type": "code",
   "execution_count": null,
   "id": "4fdeb3eb",
   "metadata": {},
   "outputs": [],
   "source": [
    "avg_r2 = summary_df['avg_R_squared'].sort_values(ascending=False)\n",
    "avg_r2.round(4)"
   ]
  },
  {
   "cell_type": "markdown",
   "id": "6d802079",
   "metadata": {},
   "source": [
    "## Cross-sectional pricing test\n",
    "\n",
    "We estimate factor risk premia by regressing the average asset returns on their time-series betas (no intercept because returns are already excess)."
   ]
  },
  {
   "cell_type": "code",
   "execution_count": null,
   "id": "f3bfb9ad",
   "metadata": {},
   "outputs": [],
   "source": [
    "factor_means = factors_aligned.mean()\n",
    "cs_results = {}\n",
    "for model, cols in MODELS.items():\n",
    "    betas = time_series_results[model]['betas']\n",
    "    avg_returns = portfolios_aligned.mean()\n",
    "    lambdas, *_ = np.linalg.lstsq(betas.values, avg_returns.values, rcond=None)\n",
    "    fitted = betas.values @ lambdas\n",
    "    residuals = avg_returns.values - fitted\n",
    "    cs_results[model] = {\n",
    "        'lambdas': pd.Series(lambdas, index=cols),\n",
    "        'mae_residual': np.mean(np.abs(residuals)),\n",
    "        'residuals': pd.Series(residuals, index=betas.index),\n",
    "    }\n",
    "\n",
    "comparison_tables = {}\n",
    "for model, cols in MODELS.items():\n",
    "    comparison_tables[model] = pd.DataFrame({\n",
    "        'time_series_mean': factor_means[cols],\n",
    "        'cross_section_lambda': cs_results[model]['lambdas']\n",
    "    })\n",
    "comparison_tables['CAPM'].round(4)"
   ]
  },
  {
   "cell_type": "code",
   "execution_count": null,
   "id": "b8cd2373",
   "metadata": {},
   "outputs": [],
   "source": [
    "comparison_tables['Fama-French 3F'].round(4)"
   ]
  },
  {
   "cell_type": "code",
   "execution_count": null,
   "id": "5f884c4c",
   "metadata": {},
   "outputs": [],
   "source": [
    "comparison_tables['Fama-French 5F'].round(4)"
   ]
  },
  {
   "cell_type": "code",
   "execution_count": null,
   "id": "469a049b",
   "metadata": {},
   "outputs": [],
   "source": [
    "comparison_tables['AQR'].round(4)"
   ]
  },
  {
   "cell_type": "markdown",
   "id": "82e5b8ab",
   "metadata": {},
   "source": [
    "### Cross-sectional residual MAE"
   ]
  },
  {
   "cell_type": "code",
   "execution_count": null,
   "id": "1fe3d09e",
   "metadata": {},
   "outputs": [],
   "source": [
    "cs_mae = pd.Series({model: res['mae_residual'] for model, res in cs_results.items()})\n",
    "cs_mae.round(4)"
   ]
  },
  {
   "cell_type": "markdown",
   "id": "7ea7a9aa",
   "metadata": {},
   "source": [
    "## Interpretation\n",
    "\n",
    "- **Time-series performance:** CAPM produces the lowest mean absolute alpha (~0.17% per month), while the five-factor and AQR extensions reduce the average alpha only marginally and actually increase MAE relative to CAPM. Nonetheless, additional factors raise average ^2$ (up to ~0.59 for FF5), indicating better explanatory power for return variation.\n",
    "- **Factor relevance:** Size (SMB) and value (HML) display negative cross-sectional premia, suggesting they were not rewarded in this sample, especially post-2000. Profitability (RMW) and momentum (UMD) retain positive prices of risk, implying that quality and momentum exposures help fit the cross section.\n",
    "- **Momentum's role:** The AQR model assigns a sizable momentum premium (~0.45% per month) and small alphas, supporting the inclusion of UMD alongside profitability.\n",
    "- **Cross-sectional vs. time-series premia:** Estimated factor prices broadly align in sign with their time-series means, but the cross-sectional magnitudes can differ substantially, especially for size and value.\n",
    "- **Residual MAE:** Cross-sectional residual errors (1.1–1.7% per month) are of the same order as time-series alphas, so none of the models price the 49 portfolios perfectly. The five-factor specification attains the lowest cross-sectional MAE, albeit only slightly better than the others."
   ]
  }
 ],
 "metadata": {},
 "nbformat": 4,
 "nbformat_minor": 5
}

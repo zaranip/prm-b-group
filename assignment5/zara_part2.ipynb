{
 "cells": [
  {
   "cell_type": "markdown",
   "id": "e41d0341",
   "metadata": {},
   "source": [
    "# Factor Analysis (Part 2)\n",
    "\n",
    "This notebook analyzes the six monthly equity factors provided in factor_pricing_data_monthly.xlsx. The goal is to understand their standalone properties, interactions, and implications for portfolio construction."
   ]
  },
  {
   "cell_type": "markdown",
   "id": "af78809b",
   "metadata": {},
   "source": [
    "## Setup"
   ]
  },
  {
   "cell_type": "code",
   "execution_count": null,
   "id": "dd7aaafc",
   "metadata": {},
   "outputs": [],
   "source": [
    "import pandas as pd\n",
    "import numpy as np\n",
    "import matplotlib.pyplot as plt\n",
    "\n",
    "plt.style.use('seaborn-v0_8-darkgrid')"
   ]
  },
  {
   "cell_type": "code",
   "execution_count": null,
   "id": "bde5fed1",
   "metadata": {},
   "outputs": [],
   "source": [
    "# Load factor data\n",
    "FACTOR_SHEET = 'factors (excess returns)'\n",
    "DATA_PATH = 'factor_pricing_data_monthly.xlsx'\n",
    "\n",
    "factors = pd.read_excel(DATA_PATH, sheet_name=FACTOR_SHEET, parse_dates=['Date'])\n",
    "factors = factors.set_index('Date').sort_index()\n",
    "factors.head()"
   ]
  },
  {
   "cell_type": "markdown",
   "id": "d12579b5",
   "metadata": {},
   "source": [
    "## Univariate factor statistics\n",
    "\n",
    "We evaluate monthly and annualized mean returns, volatility, and Sharpe ratios for each factor."
   ]
  },
  {
   "cell_type": "code",
   "execution_count": null,
   "id": "0a9a1df0",
   "metadata": {},
   "outputs": [],
   "source": [
    "monthly_mean = factors.mean()\n",
    "monthly_vol = factors.std()\n",
    "monthly_sharpe = monthly_mean / monthly_vol\n",
    "\n",
    "annual_mean = monthly_mean * 12\n",
    "annual_vol = monthly_vol * np.sqrt(12)\n",
    "annual_sharpe = annual_mean / annual_vol\n",
    "\n",
    "summary_stats = pd.DataFrame({\n",
    "    'mean_monthly': monthly_mean,\n",
    "    'vol_monthly': monthly_vol,\n",
    "    'sharpe_monthly': monthly_sharpe,\n",
    "    'mean_annualized': annual_mean,\n",
    "    'vol_annualized': annual_vol,\n",
    "    'sharpe_annualized': annual_sharpe\n",
    "})\n",
    "summary_stats.round(4)"
   ]
  },
  {
   "cell_type": "markdown",
   "id": "0b35bc2e",
   "metadata": {},
   "source": [
    "The excess-return means indicate whether each factor earns a positive risk premium. Below we flag positive vs. negative monthly averages."
   ]
  },
  {
   "cell_type": "code",
   "execution_count": null,
   "id": "df4f88f0",
   "metadata": {},
   "outputs": [],
   "source": [
    "positive_premia = (monthly_mean > 0).rename('positive_risk_premium')\n",
    "positive_premia"
   ]
  },
  {
   "cell_type": "markdown",
   "id": "3085b3cc",
   "metadata": {},
   "source": [
    "## Post-2015 factor performance\n",
    "\n",
    "We focus on the modern sample from 2015 onward to see how factor premia have evolved. We compare summary statistics and show cumulative excess returns."
   ]
  },
  {
   "cell_type": "code",
   "execution_count": null,
   "id": "e406cb5c",
   "metadata": {},
   "outputs": [],
   "source": [
    "recent_start = '2015-01-01'\n",
    "recent = factors.loc[factors.index >= recent_start]\n",
    "\n",
    "recent_stats = pd.DataFrame({\n",
    "    'mean_monthly': recent.mean(),\n",
    "    'vol_monthly': recent.std(),\n",
    "    'sharpe_monthly': recent.mean() / recent.std(),\n",
    "}).round(4)\n",
    "recent_stats"
   ]
  },
  {
   "cell_type": "code",
   "execution_count": null,
   "id": "b1b529b6",
   "metadata": {},
   "outputs": [],
   "source": [
    "cumulative_recent = (1 + recent).cumprod() - 1\n",
    "ax = cumulative_recent.plot(figsize=(10, 6))\n",
    "ax.set_title('Cumulative Excess Returns Since 2015')\n",
    "ax.set_ylabel('Cumulative excess return')\n",
    "ax.legend(loc='upper left', ncol=2, fontsize=9)\n",
    "plt.show()"
   ]
  },
  {
   "cell_type": "markdown",
   "id": "5ecbaeaa",
   "metadata": {},
   "source": [
    "## Factor correlations\n",
    "\n",
    "Small correlations support diversification among styles. We compute the correlation matrix across the six factors."
   ]
  },
  {
   "cell_type": "code",
   "execution_count": null,
   "id": "4f70ed6b",
   "metadata": {},
   "outputs": [],
   "source": [
    "correlations = factors.corr()\n",
    "correlations.round(3)"
   ]
  },
  {
   "cell_type": "markdown",
   "id": "f44a064f",
   "metadata": {},
   "source": [
    "## Tangency portfolios\n",
    "\n",
    "We compute maximum-Sharpe (tangency) weights using the six factors, assuming a zero risk-free rate because the inputs are already excess returns."
   ]
  },
  {
   "cell_type": "code",
   "execution_count": null,
   "id": "814c4deb",
   "metadata": {},
   "outputs": [],
   "source": [
    "def tangency_portfolio(data):\n",
    "    mean_returns = data.mean().values\n",
    "    cov = data.cov().values\n",
    "    weights = np.linalg.solve(cov, mean_returns)\n",
    "    weights /= weights.sum()\n",
    "    return pd.Series(weights, index=data.columns)\n",
    "\n",
    "weights_all = tangency_portfolio(factors)\n",
    "weights_all.sort_values(ascending=False).round(4)"
   ]
  },
  {
   "cell_type": "code",
   "execution_count": null,
   "id": "1318e299",
   "metadata": {},
   "outputs": [],
   "source": [
    "tangency_all_stats = pd.Series({\n",
    "    'expected_monthly_excess_return': np.dot(weights_all, monthly_mean),\n",
    "    'vol_monthly': np.sqrt(np.dot(weights_all, factors.cov().dot(weights_all))),\n",
    "})\n",
    "tangency_all_stats['sharpe_monthly'] = tangency_all_stats['expected_monthly_excess_return'] / tangency_all_stats['vol_monthly']\n",
    "tangency_all_stats.round(4)"
   ]
  },
  {
   "cell_type": "markdown",
   "id": "732ae036",
   "metadata": {},
   "source": [
    "We repeat the exercise restricting the universe to MKT, SMB, HML, and UMD to mimic the traditional styles."
   ]
  },
  {
   "cell_type": "code",
   "execution_count": null,
   "id": "afd22cc1",
   "metadata": {},
   "outputs": [],
   "source": [
    "subset_cols = ['MKT', 'SMB', 'HML', 'UMD']\n",
    "weights_subset = tangency_portfolio(factors[subset_cols])\n",
    "weights_subset.sort_values(ascending=False).round(4)"
   ]
  },
  {
   "cell_type": "code",
   "execution_count": null,
   "id": "56705b8b",
   "metadata": {},
   "outputs": [],
   "source": [
    "subset_mean = factors[subset_cols].mean()\n",
    "subset_cov = factors[subset_cols].cov()\n",
    "tangency_subset_stats = pd.Series({\n",
    "    'expected_monthly_excess_return': np.dot(weights_subset, subset_mean),\n",
    "    'vol_monthly': np.sqrt(np.dot(weights_subset, subset_cov.dot(weights_subset))),\n",
    "})\n",
    "tangency_subset_stats['sharpe_monthly'] = tangency_subset_stats['expected_monthly_excess_return'] / tangency_subset_stats['vol_monthly']\n",
    "tangency_subset_stats.round(4)"
   ]
  },
  {
   "cell_type": "markdown",
   "id": "d0cc9ec2",
   "metadata": {},
   "source": [
    "## Interpretation\n",
    "\n",
    "Key takeaways from the tables above:\n",
    "\n",
    "- **Risk premia:** Most factors exhibit positive average excess returns over the full sample, but some (notably CMA) are modest. Post-2015 averages reveal which premia have persisted in recent years.\n",
    "- **Correlations:** The correlation matrix highlights diversification potential. Compare HML's correlations to judge whether it is redundant relative to other profitability or investment factors.\n",
    "- **Tangency weights:** The maximum-Sharpe allocations show which factors contribute most to the optimal diversified portfolio. Even low-mean factors can receive weight if they hedge others effectively. Re-running the tangency optimization on the MKT/SMB/HML/UMD subset reveals how momentum interacts with the Fama–French styles."
   ]
  },
  {
   "cell_type": "markdown",
   "id": "f01bc264",
   "metadata": {},
   "source": [
    "### Highlights\n",
    "\n",
    "- **Full-sample premia:** Monthly averages range from 0.05% (SMB) to 0.73% (MKT). RMW (0.37%), CMA (0.24%), and UMD (0.50%) earn the best Sharpe ratios, while SMB's Sharpe is only 0.06.\n",
    "- **Post-2015 behavior:** MKT (0.98% monthly), RMW (0.33%), and UMD (0.17%) remain positive. SMB (−0.20%), HML (−0.14%), and CMA (−0.08%) turn negative, illustrating the headwinds to traditional size, value, and investment tilts in the last decade.\n",
    "- **Correlations:** HML and CMA are highly correlated (0.68), supporting the idea that HML overlaps with investment. MKT has modest positive correlation with SMB (0.23) and negative correlation with the quality/profitability factors.\n",
    "- **Tangency (six factors):** Optimization favors CMA (0.32), RMW (0.30), and MKT (0.22), with a small short in HML (−0.02).\n",
    "- **Tangency (MKT/SMB/HML/UMD):** Weights concentrate in MKT (0.38), HML (0.37), and UMD (0.31), while SMB carries a small short (−0.05). Momentum remains valuable when value and market are present, mitigating the need for SMB in the optimal mix."
   ]
  }
 ],
 "metadata": {},
 "nbformat": 4,
 "nbformat_minor": 5
}
